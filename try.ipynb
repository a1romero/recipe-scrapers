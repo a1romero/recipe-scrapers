{
 "cells": [
  {
   "cell_type": "code",
   "execution_count": 2,
   "metadata": {},
   "outputs": [],
   "source": [
    "from recipe_scrapers import scrape_html\n",
    "scraper = scrape_html(html = None, org_url = \"https://www.bbcgoodfood.com/recipes/monster-cupcakes\", online = True)"
   ]
  },
  {
   "cell_type": "code",
   "execution_count": 3,
   "metadata": {},
   "outputs": [
    {
     "data": {
      "text/plain": [
       "{'author': 'Good Food team',\n",
       " 'canonical_url': 'https://www.bbcgoodfood.com/recipes/monster-cupcakes',\n",
       " 'category': 'Treat',\n",
       " 'cook_time': 20,\n",
       " 'cuisine': 'British',\n",
       " 'description': 'Let your little monsters do their worst, decorating these spooky Halloween treats',\n",
       " 'host': 'bbcgoodfood.com',\n",
       " 'image': 'https://images.immediate.co.uk/production/volatile/sites/30/2020/08/recipe-image-legacy-id-405483_12-cee017a.jpg?resize=768,574',\n",
       " 'ingredient_groups': [{'ingredients': ['250g self-raising flour',\n",
       "    '25g cocoa powder',\n",
       "    '175g light muscovado sugar',\n",
       "    '85g unsalted butter , melted',\n",
       "    '5 tbsp vegetable or sunflower oil',\n",
       "    '150g pot fat-free natural yogurt',\n",
       "    '1 tsp vanilla extract',\n",
       "    '3 large eggs'],\n",
       "   'purpose': None},\n",
       "  {'ingredients': ['85g unsalted butter , softened',\n",
       "    '1 tbsp milk',\n",
       "    '½ tsp vanilla extract',\n",
       "    '200g icing sugar , sifted',\n",
       "    'food colourings (optional)',\n",
       "    'sweets and sprinkles, to decorate'],\n",
       "   'purpose': 'For the frosting and decorating'}],\n",
       " 'ingredients': ['250g self-raising flour',\n",
       "  '25g cocoa powder',\n",
       "  '175g light muscovado sugar',\n",
       "  '85g unsalted butter , melted',\n",
       "  '5 tbsp vegetable or sunflower oil',\n",
       "  '150g pot fat-free natural yogurt',\n",
       "  '1 tsp vanilla extract',\n",
       "  '3 large eggs',\n",
       "  '85g unsalted butter , softened',\n",
       "  '1 tbsp milk',\n",
       "  '½ tsp vanilla extract',\n",
       "  '200g icing sugar , sifted',\n",
       "  'food colourings (optional)',\n",
       "  'sweets and sprinkles, to decorate'],\n",
       " 'instructions': 'Heat oven to 190C/170C fan/gas 5 and line a 12-hole muffin tin with deep cake cases. Put all the cake ingredients into a large bowl and beat together with electric hand beaters until smooth. Spoon the mix into the cases, then bake for 20 mins until risen and a skewer inserted into the middle comes out dry. Cool completely on a rack. Can be made up to 3 days ahead and kept in an airtight container, or frozen for up to 1 month.\\nFor the frosting, work the butter, milk and vanilla into the icing sugar until creamy and pale. Colour with food colouring, if using, then create your own gruesome monster faces using sweets and sprinkles.',\n",
       " 'instructions_list': ['Heat oven to 190C/170C fan/gas 5 and line a 12-hole muffin tin with deep cake cases. Put all the cake ingredients into a large bowl and beat together with electric hand beaters until smooth. Spoon the mix into the cases, then bake for 20 mins until risen and a skewer inserted into the middle comes out dry. Cool completely on a rack. Can be made up to 3 days ahead and kept in an airtight container, or frozen for up to 1 month.',\n",
       "  'For the frosting, work the butter, milk and vanilla into the icing sugar until creamy and pale. Colour with food colouring, if using, then create your own gruesome monster faces using sweets and sprinkles.'],\n",
       " 'keywords': ['Josh Eagleton',\n",
       "  '30-60 minutes',\n",
       "  '400 kcal or less',\n",
       "  'Biscuit recipes',\n",
       "  'Cup cakes',\n",
       "  'Cupcake',\n",
       "  'Frosting',\n",
       "  'Good Food',\n",
       "  'Halloween recipes',\n",
       "  'Icing',\n",
       "  'Kids recipes',\n",
       "  'Party recipes',\n",
       "  'Spooky recipes',\n",
       "  'Sweet',\n",
       "  'Sweet recipe',\n",
       "  'Sweet recipes',\n",
       "  'Sweets',\n",
       "  'Vanilla extract'],\n",
       " 'language': 'en',\n",
       " 'nutrients': {'calories': '389 calories',\n",
       "  'fatContent': '19 grams fat',\n",
       "  'saturatedFatContent': '9 grams saturated fat',\n",
       "  'carbohydrateContent': '53 grams carbohydrates',\n",
       "  'sugarContent': '36 grams sugar',\n",
       "  'fiberContent': '1 grams fiber',\n",
       "  'proteinContent': '5 grams protein',\n",
       "  'sodiumContent': '0.3 milligram of sodium'},\n",
       " 'prep_time': 15,\n",
       " 'site_name': 'Good Food',\n",
       " 'title': 'Monster cupcakes',\n",
       " 'total_time': 50,\n",
       " 'yields': '12 items'}"
      ]
     },
     "execution_count": 3,
     "metadata": {},
     "output_type": "execute_result"
    }
   ],
   "source": [
    "scraper.to_json()"
   ]
  }
 ],
 "metadata": {
  "kernelspec": {
   "display_name": "base",
   "language": "python",
   "name": "python3"
  },
  "language_info": {
   "codemirror_mode": {
    "name": "ipython",
    "version": 3
   },
   "file_extension": ".py",
   "mimetype": "text/x-python",
   "name": "python",
   "nbconvert_exporter": "python",
   "pygments_lexer": "ipython3",
   "version": "3.9.12"
  }
 },
 "nbformat": 4,
 "nbformat_minor": 2
}
